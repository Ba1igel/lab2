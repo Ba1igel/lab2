{
 "cells": [
  {
   "cell_type": "code",
   "execution_count": null,
   "metadata": {},
   "outputs": [],
   "source": []
  },
  {
   "cell_type": "code",
   "execution_count": 2,
   "metadata": {},
   "outputs": [
    {
     "name": "stdout",
     "output_type": "stream",
     "text": [
      "True\n"
     ]
    }
   ],
   "source": [
    "#boolean\n",
    "class myclass():\n",
    "    def __len__(self):\n",
    "        return 1\n",
    "\n",
    "obj = myclass()\n",
    "print(bool(obj))"
   ]
  },
  {
   "cell_type": "code",
   "execution_count": 5,
   "metadata": {},
   "outputs": [
    {
     "name": "stdout",
     "output_type": "stream",
     "text": [
      "NO!!\n"
     ]
    }
   ],
   "source": [
    "def myfunc():\n",
    "    return False\n",
    "\n",
    "if myfunc():\n",
    "    print(\"YES!!\")\n",
    "\n",
    "else:\n",
    "    print(\"NO!!\")"
   ]
  },
  {
   "cell_type": "code",
   "execution_count": 9,
   "metadata": {},
   "outputs": [
    {
     "name": "stdout",
     "output_type": "stream",
     "text": [
      "40\n"
     ]
    }
   ],
   "source": [
    "#python operarions\n",
    "\"\"\"\n",
    "() Parentless\n",
    "**Exponentation\n",
    "+x -x ~x unary(plus, minus, and bitwise not)\n",
    ">> << Bitwise left and right shifts\n",
    "\n",
    "\"\"\"\n",
    "\n",
    "x = 10 \n",
    "y = x << 2\n",
    "print(y)\n",
    "\n"
   ]
  },
  {
   "cell_type": "code",
   "execution_count": 15,
   "metadata": {},
   "outputs": [
    {
     "name": "stdout",
     "output_type": "stream",
     "text": [
      "<class 'list'>\n",
      "['apple', 'blackcurrant', 'cherry']\n",
      "['apple', 'blackcurrant', 'watermelon', 'cherry', 'madara', 'adad', 'asdkaf']\n",
      "['apple', 'blackcurrant', 'watermelon', 'cherry', 'adad', 'asdkaf']\n"
     ]
    }
   ],
   "source": [
    "#list\n",
    "blist = [\"strawberry\", \"banana\", \"cheese\"]\n",
    "print(type(blist))\n",
    "thislist = [\"apple\", \"banana\", \"cherry\"]\n",
    "thislist[1] = \"blackcurrant\"\n",
    "print(thislist)\n",
    "\n",
    "raw = [\"apple\", \"banana\", \"cherry\"]\n",
    "ksama = [\"madara\", \"adad\", \"asdkaf\"]\n",
    "raw[1:2] = [\"blackcurrant\", \"watermelon\"]\n",
    "raw.extend(ksama)\n",
    "print(raw)\n",
    "raw.remove(\"madara\")\n",
    "print(raw)"
   ]
  },
  {
   "cell_type": "code",
   "execution_count": 20,
   "metadata": {},
   "outputs": [
    {
     "name": "stdout",
     "output_type": "stream",
     "text": [
      "['apple', 'banana', 'cherry']\n",
      "['apple', 'banana', 'cherry']\n",
      "['apple', 'banana', 'cherry']\n"
     ]
    }
   ],
   "source": [
    "thisl = [\"apple\", \"banana\", \"cherry\"]\n",
    "i = len(thisl)\n",
    "while i !=0:\n",
    "    print(thisl)\n",
    "    i-=1\n",
    "\n"
   ]
  },
  {
   "cell_type": "code",
   "execution_count": 24,
   "metadata": {},
   "outputs": [
    {
     "name": "stdout",
     "output_type": "stream",
     "text": [
      "['apple', 'banana', 'mango']\n",
      "['mango', 'banana', 'apple']\n"
     ]
    }
   ],
   "source": [
    "fruits = [\"apple\", \"banana\", \"cherry\", \"kiwi\", \"mango\"]\n",
    "\n",
    "newlist = [x for x in fruits if \"a\" in x]\n",
    "\n",
    "print(newlist)\n",
    "newlist.reverse()\n",
    "print(newlist)\n",
    "#newlist = [expression for item in iterable if condition == True]"
   ]
  },
  {
   "cell_type": "code",
   "execution_count": 25,
   "metadata": {},
   "outputs": [
    {
     "name": "stdout",
     "output_type": "stream",
     "text": [
      "['apple', 'banana', 'cherry']\n",
      "['apple', 'banana', 'cherry']\n",
      "['apple', 'banana', 'cherry']\n"
     ]
    }
   ],
   "source": [
    "#to copy list\n",
    "thislist = [\"apple\", \"banana\", \"cherry\"]\n",
    "mylist = thislist.copy()\n",
    "print(mylist)\n",
    "\n",
    "thislist = [\"apple\", \"banana\", \"cherry\"]\n",
    "mylist = list(thislist)\n",
    "print(mylist)\n",
    "\n",
    "thislist = [\"apple\", \"banana\", \"cherry\"]\n",
    "mylist = thislist[:]\n",
    "print(mylist)"
   ]
  },
  {
   "cell_type": "code",
   "execution_count": 26,
   "metadata": {},
   "outputs": [
    {
     "name": "stdout",
     "output_type": "stream",
     "text": [
      "['a', 'b', 'c', 1, 2, 3]\n"
     ]
    }
   ],
   "source": [
    "bai1 = [\"a\", \"b\" , \"c\"]\n",
    "bai2 = [1, 2, 3]\n",
    "\n",
    "for x in bai2:\n",
    "    bai1.append(x)\n",
    "\n",
    "print(bai1)\n",
    "\n",
    "# or just use extend() "
   ]
  },
  {
   "cell_type": "code",
   "execution_count": null,
   "metadata": {},
   "outputs": [],
   "source": [
    "#jus for me\n",
    "\"\"\"\n",
    "clear()   clear remove all elements from the list\n",
    "count()   returns the number of elements with the specified value\n",
    "extend()  add the elements of a list (or any iterable), to the end of the current list\n",
    "index()   Returns the index of the first element with the special value\n",
    "insert()  Adds an element at the specified position \n",
    "pop()     Removes the element at the specified position from\n",
    "remove()  Removes the item with the specified position from the current list\n",
    "\n",
    "\n",
    "\n",
    "\"\"\""
   ]
  }
 ],
 "metadata": {
  "kernelspec": {
   "display_name": "Python 3",
   "language": "python",
   "name": "python3"
  },
  "language_info": {
   "codemirror_mode": {
    "name": "ipython",
    "version": 3
   },
   "file_extension": ".py",
   "mimetype": "text/x-python",
   "name": "python",
   "nbconvert_exporter": "python",
   "pygments_lexer": "ipython3",
   "version": "3.13.1"
  }
 },
 "nbformat": 4,
 "nbformat_minor": 2
}
